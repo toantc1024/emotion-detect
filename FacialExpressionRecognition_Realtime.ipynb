{
  "cells": [
    {
      "cell_type": "code",
      "execution_count": 3,
      "id": "legislative-trade",
      "metadata": {
        "id": "legislative-trade"
      },
      "outputs": [],
      "source": [
        "import tensorflow as tf\n",
        "import numpy as np\n",
        "import cv2\n",
        "import dlib\n",
        "import pickle"
      ]
    },
    {
      "cell_type": "code",
      "execution_count": 4,
      "id": "2689844c",
      "metadata": {
        "id": "2689844c"
      },
      "outputs": [],
      "source": [
        "# import efficientnet.tfkeras as efn\n",
        "from tensorflow.keras.models import load_model"
      ]
    },
    {
      "cell_type": "code",
      "execution_count": 5,
      "id": "6591db86",
      "metadata": {
        "colab": {
          "base_uri": "https://localhost:8080/"
        },
        "id": "6591db86",
        "outputId": "edf4fa8b-40bf-487b-f35d-0a4caa176326"
      },
      "outputs": [
        {
          "name": "stdout",
          "output_type": "stream",
          "text": [
            "2.13.0\n"
          ]
        }
      ],
      "source": [
        "import tensorflow as tf\n",
        "print(tf.__version__)"
      ]
    },
    {
      "cell_type": "code",
      "execution_count": 6,
      "id": "double-subscriber",
      "metadata": {
        "colab": {
          "base_uri": "https://localhost:8080/",
          "height": 287
        },
        "id": "double-subscriber",
        "outputId": "bac3fee4-b3bf-4736-abd8-ad479caf1723"
      },
      "outputs": [],
      "source": [
        "model = load_model(\"FacialExpressionModel.h5\") # Load the saved weights"
      ]
    },
    {
      "cell_type": "code",
      "execution_count": 10,
      "id": "documentary-twist",
      "metadata": {
        "id": "documentary-twist"
      },
      "outputs": [
        {
          "name": "stderr",
          "output_type": "stream",
          "text": [
            "c:\\Users\\Ghelix\\Downloads\\facial\\.venv\\lib\\site-packages\\sklearn\\base.py:348: InconsistentVersionWarning: Trying to unpickle estimator LabelEncoder from version 1.0.2 when using version 1.3.2. This might lead to breaking code or invalid results. Use at your own risk. For more info please refer to:\n",
            "https://scikit-learn.org/stable/model_persistence.html#security-maintainability-limitations\n",
            "  warnings.warn(\n"
          ]
        }
      ],
      "source": [
        "# Load LabelEncoder\n",
        "def load_object(name):\n",
        "    pickle_obj = open(f\"{name}.pck\",\"rb\")\n",
        "    obj = pickle.load(pickle_obj)\n",
        "    return obj\n",
        "\n",
        "Le = load_object(\"LabelEncoder\")"
      ]
    },
    {
      "cell_type": "code",
      "execution_count": 11,
      "id": "provincial-cambridge",
      "metadata": {
        "id": "provincial-cambridge"
      },
      "outputs": [],
      "source": [
        "def ProcessImage(image):\n",
        "    image = tf.convert_to_tensor(image)\n",
        "    image = tf.image.resize(image , [96 , 96] , method=\"bilinear\")\n",
        "    image = tf.expand_dims(image , 0)\n",
        "    return image\n",
        "\n",
        "def RealtimePrediction(image , model, encoder_):\n",
        "    prediction = model.predict(image)\n",
        "    prediction = np.argmax(prediction , axis = 1)\n",
        "    return encoder_.inverse_transform(prediction)[0]\n",
        "\n",
        "def rect_to_bb(rect):\n",
        "    x = rect.left()\n",
        "    y = rect.top()\n",
        "    w = rect.right() - x\n",
        "    h = rect.bottom() - y\n",
        "    return (x, y, w, h)"
      ]
    },
    {
      "cell_type": "code",
      "execution_count": 13,
      "id": "diverse-measurement",
      "metadata": {
        "id": "diverse-measurement",
        "scrolled": true
      },
      "outputs": [],
      "source": [
        "VideoCapture = cv2.VideoCapture(0)\n",
        "\n",
        "detector = dlib.get_frontal_face_detector()\n",
        "\n",
        "while True :\n",
        "\n",
        "    ret , frame = VideoCapture.read()\n",
        "\n",
        "    if not ret :\n",
        "        break\n",
        "\n",
        "    gray = cv2.cvtColor( frame , cv2.COLOR_BGR2GRAY)\n",
        "\n",
        "    rects = detector(gray , 0)\n",
        "\n",
        "    if len(rects) >= 1 :\n",
        "        for rect in rects :\n",
        "            (x , y , w , h) = rect_to_bb(rect)\n",
        "            img = gray[y-10 : y+h+10 , x-10 : x+w+10]\n",
        "\n",
        "            if img.shape[0] == 0 or img.shape[1] == 0 :\n",
        "                cv2.imshow(\"Frame\", frame)\n",
        "\n",
        "            else :\n",
        "                img = cv2.cvtColor(img , cv2.COLOR_GRAY2RGB)\n",
        "                img = ProcessImage(img)\n",
        "                out = RealtimePrediction(img , model , Le)\n",
        "                cv2.rectangle(frame, (x, y), (x+w, y+h),(0, 255, 0), 2)\n",
        "                z = y - 15 if y - 15 > 15 else y + 15\n",
        "                cv2.putText(frame, str(out), (x, z), cv2.FONT_HERSHEY_SIMPLEX,0.75, (0, 255, 0), 2)\n",
        "\n",
        "        cv2.imshow(\"Frame\", frame)\n",
        "\n",
        "    else :\n",
        "        cv2.imshow(\"Frame\", frame)\n",
        "\n",
        "    if cv2.waitKey(1) & 0xFF == ord('q'):\n",
        "        break\n",
        "\n",
        "VideoCapture.release()\n",
        "cv2.destroyAllWindows()"
      ]
    },
    {
      "cell_type": "code",
      "execution_count": null,
      "id": "739dfd6b",
      "metadata": {
        "id": "739dfd6b"
      },
      "outputs": [],
      "source": []
    }
  ],
  "metadata": {
    "colab": {
      "provenance": []
    },
    "kernelspec": {
      "display_name": "Python 3",
      "language": "python",
      "name": "python3"
    },
    "language_info": {
      "codemirror_mode": {
        "name": "ipython",
        "version": 3
      },
      "file_extension": ".py",
      "mimetype": "text/x-python",
      "name": "python",
      "nbconvert_exporter": "python",
      "pygments_lexer": "ipython3",
      "version": "3.8.0"
    }
  },
  "nbformat": 4,
  "nbformat_minor": 5
}
